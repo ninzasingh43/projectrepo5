{
 "cells": [
  {
   "cell_type": "code",
   "execution_count": null,
   "id": "762b1bd5-b399-4399-8917-617fd8c1bf8d",
   "metadata": {},
   "outputs": [],
   "source": []
  }
 ],
 "metadata": {
  "kernelspec": {
   "display_name": "",
   "name": ""
  },
  "language_info": {
   "name": ""
  }
 },
 "nbformat": 4,
 "nbformat_minor": 5
}
